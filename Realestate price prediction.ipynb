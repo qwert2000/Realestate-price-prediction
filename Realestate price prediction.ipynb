{
 "cells": [
  {
   "cell_type": "code",
   "execution_count": 14,
   "metadata": {},
   "outputs": [
    {
     "name": "stdout",
     "output_type": "stream",
     "text": [
      "0.5207515954719953\n",
      "0.22070261983851003\n",
      "Train error: 0.08225266989685204\n",
      "Test error: 0.590744232310015\n"
     ]
    },
    {
     "data": {
      "text/plain": [
       "Text(0.5, 1.0, 'Error vs. Training Epoch')"
      ]
     },
     "execution_count": 14,
     "metadata": {},
     "output_type": "execute_result"
    },
    {
     "data": {
      "image/png": "[encoded data removed]",
      "text/plain": [
       "<Figure size 864x576 with 1 Axes>"
      ]
     },
     "metadata": {
      "needs_background": "light"
     },
     "output_type": "display_data"
    }
   ],
   "source": [
    "import numpy as np\n",
    "import matplotlib.pyplot as plt\n",
    "import pandas as pd\n",
    "from mpl_toolkits.mplot3d import Axes3D\n",
    "\n",
    "def computeCost(X,y,theta,m):\n",
    "  h = X.dot(theta)\n",
    "  meansq_error = (h-y)**2\n",
    "  return 1/(2*m) * np.sum(meansq_error)\n",
    "\n",
    "def gradientDescent(X,y,theta,alpha,num_iters,m):\n",
    "  J_history = []\n",
    "  for i in range(num_iters):\n",
    "    predictions = X.dot(theta)\n",
    "    error = np.dot(X.transpose(),(predictions - y))\n",
    "    descent = alpha * (1/m) * error\n",
    "    theta -= descent\n",
    "    J_history.append(computeCost(X,y,theta,m))\n",
    "  return theta,J_history\n",
    "\n",
    "def train_error(X,theta,y):\n",
    "    a = np.dot(X,theta)\n",
    "    return ((abs(np.sum(a)-np.sum(y)))/len(y))*100\n",
    "\n",
    "data = pd.read_csv('Real estate.csv',header=None)\n",
    "data.head()\n",
    "data.describe()\n",
    "data=(data-(data.mean()))/(data.std())\n",
    "data1 = data.values\n",
    "m2 = len(data1[:,-1])\n",
    "a = int(m2*0.8)\n",
    "b = m2 - a\n",
    "cols=data.shape[1]\n",
    "X2=data1[0:a,1:cols-1]\n",
    "y2=data1[0:a,cols-1:cols]\n",
    "X3=data1[a+1:m2,1:cols-1]\n",
    "y3=data1[a+1:m2,cols-1:cols]\n",
    "theta2=np.zeros((X2.shape[1],1))\n",
    "print(computeCost(X2,y2,theta2,X2.shape[0]))\n",
    "alpha = 0.001\n",
    "num_iters = 20000\n",
    "theta2, J_history2 = gradientDescent(X2,y2,theta2,alpha,num_iters,X2.shape[0])\n",
    "print(computeCost(X2,y2,theta2,X2.shape[0]))\n",
    "p = train_error(X2,theta2,y2)\n",
    "print(\"Train error:\",p)\n",
    "p1 = train_error(X3,theta2,y3)\n",
    "print(\"Test error:\",p1)\n",
    "fig, ax = plt.subplots(figsize=(12,8))\n",
    "ax.plot(np.arange(num_iters),J_history2, 'r')\n",
    "ax.set_xlabel('Iterations')\n",
    "ax.set_ylabel('Cost')\n",
    "ax.set_title('Error vs. Training Epoch')"
   ]
  },
  {
   "cell_type": "code",
   "execution_count": null,
   "metadata": {},
   "outputs": [],
   "source": []
  }
 ],
 "metadata": {
  "kernelspec": {
   "display_name": "Python 3",
   "language": "python",
   "name": "python3"
  },
  "language_info": {
   "codemirror_mode": {
    "name": "ipython",
    "version": 3
   },
   "file_extension": ".py",
   "mimetype": "text/x-python",
   "name": "python",
   "nbconvert_exporter": "python",
   "pygments_lexer": "ipython3",
   "version": "3.7.4"
  }
 },
 "nbformat": 4,
 "nbformat_minor": 2
}
